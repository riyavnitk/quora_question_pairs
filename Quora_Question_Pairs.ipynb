{
  "nbformat": 4,
  "nbformat_minor": 0,
  "metadata": {
    "colab": {
      "name": "Quora Question Pairs.ipynb",
      "provenance": [],
      "collapsed_sections": []
    },
    "kernelspec": {
      "name": "python3",
      "display_name": "Python 3"
    },
    "language_info": {
      "name": "python"
    },
    "accelerator": "GPU"
  },
  "cells": [
    {
      "cell_type": "code",
      "metadata": {
        "id": "2NCNTfHf2xev"
      },
      "source": [
        "import numpy as np # linear algebra\n",
        "import pandas as pd # data processing, CSV file I/O (e.g. pd.read_csv)\n",
        "from keras.preprocessing.text import Tokenizer\n",
        "from keras.preprocessing.sequence import pad_sequences\n",
        "from nltk.tokenize import word_tokenize\n",
        "import re\n",
        "from nltk.stem import WordNetLemmatizer\n",
        "from nltk.corpus import stopwords\n",
        "import tensorflow as tf\n",
        "from tensorflow.keras.layers import *\n",
        "from tensorflow.keras.models import Model\n",
        "import os"
      ],
      "execution_count": 44,
      "outputs": []
    },
    {
      "cell_type": "code",
      "metadata": {
        "id": "p1EGwMEW83Md"
      },
      "source": [
        "df = pd.read_csv('quora-question-pairs/train.csv')"
      ],
      "execution_count": 45,
      "outputs": []
    },
    {
      "cell_type": "code",
      "metadata": {
        "colab": {
          "base_uri": "https://localhost:8080/",
          "height": 289
        },
        "id": "VdsIJg4688-R",
        "outputId": "22e42978-b750-4883-d182-ee553ee80c3e"
      },
      "source": [
        "df.head()"
      ],
      "execution_count": 46,
      "outputs": [
        {
          "output_type": "execute_result",
          "data": {
            "text/html": [
              "<div>\n",
              "<style scoped>\n",
              "    .dataframe tbody tr th:only-of-type {\n",
              "        vertical-align: middle;\n",
              "    }\n",
              "\n",
              "    .dataframe tbody tr th {\n",
              "        vertical-align: top;\n",
              "    }\n",
              "\n",
              "    .dataframe thead th {\n",
              "        text-align: right;\n",
              "    }\n",
              "</style>\n",
              "<table border=\"1\" class=\"dataframe\">\n",
              "  <thead>\n",
              "    <tr style=\"text-align: right;\">\n",
              "      <th></th>\n",
              "      <th>id</th>\n",
              "      <th>qid1</th>\n",
              "      <th>qid2</th>\n",
              "      <th>question1</th>\n",
              "      <th>question2</th>\n",
              "      <th>is_duplicate</th>\n",
              "    </tr>\n",
              "  </thead>\n",
              "  <tbody>\n",
              "    <tr>\n",
              "      <th>0</th>\n",
              "      <td>0</td>\n",
              "      <td>1</td>\n",
              "      <td>2</td>\n",
              "      <td>What is the step by step guide to invest in sh...</td>\n",
              "      <td>What is the step by step guide to invest in sh...</td>\n",
              "      <td>0</td>\n",
              "    </tr>\n",
              "    <tr>\n",
              "      <th>1</th>\n",
              "      <td>1</td>\n",
              "      <td>3</td>\n",
              "      <td>4</td>\n",
              "      <td>What is the story of Kohinoor (Koh-i-Noor) Dia...</td>\n",
              "      <td>What would happen if the Indian government sto...</td>\n",
              "      <td>0</td>\n",
              "    </tr>\n",
              "    <tr>\n",
              "      <th>2</th>\n",
              "      <td>2</td>\n",
              "      <td>5</td>\n",
              "      <td>6</td>\n",
              "      <td>How can I increase the speed of my internet co...</td>\n",
              "      <td>How can Internet speed be increased by hacking...</td>\n",
              "      <td>0</td>\n",
              "    </tr>\n",
              "    <tr>\n",
              "      <th>3</th>\n",
              "      <td>3</td>\n",
              "      <td>7</td>\n",
              "      <td>8</td>\n",
              "      <td>Why am I mentally very lonely? How can I solve...</td>\n",
              "      <td>Find the remainder when [math]23^{24}[/math] i...</td>\n",
              "      <td>0</td>\n",
              "    </tr>\n",
              "    <tr>\n",
              "      <th>4</th>\n",
              "      <td>4</td>\n",
              "      <td>9</td>\n",
              "      <td>10</td>\n",
              "      <td>Which one dissolve in water quikly sugar, salt...</td>\n",
              "      <td>Which fish would survive in salt water?</td>\n",
              "      <td>0</td>\n",
              "    </tr>\n",
              "  </tbody>\n",
              "</table>\n",
              "</div>"
            ],
            "text/plain": [
              "   id  qid1  ...                                          question2 is_duplicate\n",
              "0   0     1  ...  What is the step by step guide to invest in sh...            0\n",
              "1   1     3  ...  What would happen if the Indian government sto...            0\n",
              "2   2     5  ...  How can Internet speed be increased by hacking...            0\n",
              "3   3     7  ...  Find the remainder when [math]23^{24}[/math] i...            0\n",
              "4   4     9  ...            Which fish would survive in salt water?            0\n",
              "\n",
              "[5 rows x 6 columns]"
            ]
          },
          "metadata": {},
          "execution_count": 46
        }
      ]
    },
    {
      "cell_type": "code",
      "metadata": {
        "id": "OnvAkQhl89Dp"
      },
      "source": [
        "test_data = pd.read_csv('quora-question-pairs/test.csv')"
      ],
      "execution_count": 47,
      "outputs": []
    },
    {
      "cell_type": "code",
      "metadata": {
        "colab": {
          "base_uri": "https://localhost:8080/",
          "height": 204
        },
        "id": "qVUy1lpA89Gu",
        "outputId": "4fff9a34-955b-4b48-ccd2-31a110ef01e4"
      },
      "source": [
        "test_data.head()"
      ],
      "execution_count": 48,
      "outputs": [
        {
          "output_type": "execute_result",
          "data": {
            "text/html": [
              "<div>\n",
              "<style scoped>\n",
              "    .dataframe tbody tr th:only-of-type {\n",
              "        vertical-align: middle;\n",
              "    }\n",
              "\n",
              "    .dataframe tbody tr th {\n",
              "        vertical-align: top;\n",
              "    }\n",
              "\n",
              "    .dataframe thead th {\n",
              "        text-align: right;\n",
              "    }\n",
              "</style>\n",
              "<table border=\"1\" class=\"dataframe\">\n",
              "  <thead>\n",
              "    <tr style=\"text-align: right;\">\n",
              "      <th></th>\n",
              "      <th>test_id</th>\n",
              "      <th>question1</th>\n",
              "      <th>question2</th>\n",
              "    </tr>\n",
              "  </thead>\n",
              "  <tbody>\n",
              "    <tr>\n",
              "      <th>0</th>\n",
              "      <td>0</td>\n",
              "      <td>How does the Surface Pro himself 4 compare wit...</td>\n",
              "      <td>Why did Microsoft choose core m3 and not core ...</td>\n",
              "    </tr>\n",
              "    <tr>\n",
              "      <th>1</th>\n",
              "      <td>1</td>\n",
              "      <td>Should I have a hair transplant at age 24? How...</td>\n",
              "      <td>How much cost does hair transplant require?</td>\n",
              "    </tr>\n",
              "    <tr>\n",
              "      <th>2</th>\n",
              "      <td>2</td>\n",
              "      <td>What but is the best way to send money from Ch...</td>\n",
              "      <td>What you send money to China?</td>\n",
              "    </tr>\n",
              "    <tr>\n",
              "      <th>3</th>\n",
              "      <td>3</td>\n",
              "      <td>Which food not emulsifiers?</td>\n",
              "      <td>What foods fibre?</td>\n",
              "    </tr>\n",
              "    <tr>\n",
              "      <th>4</th>\n",
              "      <td>4</td>\n",
              "      <td>How \"aberystwyth\" start reading?</td>\n",
              "      <td>How their can I start reading?</td>\n",
              "    </tr>\n",
              "  </tbody>\n",
              "</table>\n",
              "</div>"
            ],
            "text/plain": [
              "   test_id  ...                                          question2\n",
              "0        0  ...  Why did Microsoft choose core m3 and not core ...\n",
              "1        1  ...        How much cost does hair transplant require?\n",
              "2        2  ...                      What you send money to China?\n",
              "3        3  ...                                  What foods fibre?\n",
              "4        4  ...                     How their can I start reading?\n",
              "\n",
              "[5 rows x 3 columns]"
            ]
          },
          "metadata": {},
          "execution_count": 48
        }
      ]
    },
    {
      "cell_type": "code",
      "metadata": {
        "id": "hA1qja9S89Jm"
      },
      "source": [
        "X_train = df.iloc[:,:5].values\n",
        "Y_train = df.iloc[:,5:].values"
      ],
      "execution_count": 49,
      "outputs": []
    },
    {
      "cell_type": "code",
      "metadata": {
        "id": "o0rPs_KJ89MY"
      },
      "source": [
        "X_testq1 = test_data.iloc[:400001,1:2].values\n",
        "X_testq2 = test_data.iloc[:400001, 2:].values"
      ],
      "execution_count": 50,
      "outputs": []
    },
    {
      "cell_type": "code",
      "metadata": {
        "id": "KFGk92YZ9S-I"
      },
      "source": [
        "s1 = X_train[:,3]\n",
        "s2 = X_train[:,4]"
      ],
      "execution_count": 51,
      "outputs": []
    },
    {
      "cell_type": "code",
      "metadata": {
        "id": "ftDS_BK59TBL"
      },
      "source": [
        "def tokenize(s):\n",
        "    tokens = []\n",
        "    tokens = [word_tokenize(str(sentence)) for sentence in s]\n",
        "\n",
        "    rm1 = []\n",
        "    for w in tokens:\n",
        "        sm = re.sub('[^A-Za-z]',' ', str(w))\n",
        "        x = re.split(\"\\s\", sm)\n",
        "        rm1.append(x)\n",
        "        \n",
        "    return rm1"
      ],
      "execution_count": 52,
      "outputs": []
    },
    {
      "cell_type": "code",
      "metadata": {
        "id": "UdI5ZJSG9TES"
      },
      "source": [
        "def lower_case(s):\n",
        "    #Removing whitespaces    \n",
        "    for sent in s:\n",
        "        while '' in sent:\n",
        "            sent.remove('')\n",
        "\n",
        "    # Lowercasing\n",
        "    low = []\n",
        "    for i in s:\n",
        "        i = [x.lower() for x in i]\n",
        "        low.append(i)\n",
        "        \n",
        "    return low\n",
        "    "
      ],
      "execution_count": 53,
      "outputs": []
    },
    {
      "cell_type": "code",
      "metadata": {
        "id": "KVfjyaTF9THk"
      },
      "source": [
        "def lemmatize(s):\n",
        "    lemma = []\n",
        "    wnl = WordNetLemmatizer()\n",
        "    for doc in s:\n",
        "        tokens = [wnl.lemmatize(w) for w in doc]\n",
        "        lemma.append(tokens)\n",
        "\n",
        "    # Removing Stopwords\n",
        "    filter_words = []\n",
        "    Stopwords = set(stopwords.words('english'))\n",
        "\n",
        "    #ab = spell('nd')\n",
        "    for sent in lemma:\n",
        "        tokens = [w for w in sent if w not in Stopwords]\n",
        "        filter_words.append(tokens)\n",
        "\n",
        "    space = ' ' \n",
        "    sentences = []\n",
        "    for sentence in filter_words:\n",
        "        sentences.append(space.join(sentence))\n",
        "        \n",
        "    return sentences"
      ],
      "execution_count": 54,
      "outputs": []
    },
    {
      "cell_type": "code",
      "metadata": {
        "id": "bz_mYgR79TME"
      },
      "source": [
        "MAX_NB_WORDS = 200000\n",
        "tokenizer = Tokenizer(num_words = MAX_NB_WORDS)\n",
        "tokenizer.fit_on_texts(list(df['question1'].values.astype(str))+list(df['question2'].values.astype(str)))"
      ],
      "execution_count": 55,
      "outputs": []
    },
    {
      "cell_type": "code",
      "metadata": {
        "id": "TLkAkEHJ9TTZ"
      },
      "source": [
        "X_train_q1 = tokenizer.texts_to_sequences(df['question1'].values.astype(str))\n",
        "X_train_q1 = pad_sequences(X_train_q1, maxlen = 30, padding='post')\n",
        "\n",
        "# X_train_q2 = tokenizer.texts_to_sequences(np.array(listq2))\n",
        "X_train_q2 = tokenizer.texts_to_sequences(df['question2'].values.astype(str))\n",
        "X_train_q2 = pad_sequences(X_train_q2, maxlen = 30, padding='post')"
      ],
      "execution_count": 56,
      "outputs": []
    },
    {
      "cell_type": "code",
      "metadata": {
        "id": "VsGO3rNf9TeZ"
      },
      "source": [
        "X_test_q1 = tokenizer.texts_to_sequences(X_testq1.ravel())\n",
        "X_test_q1 = pad_sequences(X_test_q1,maxlen = 30, padding='post')\n",
        "\n",
        "X_test_q2 = tokenizer.texts_to_sequences(X_testq2.astype(str).ravel())\n",
        "X_test_q2 = pad_sequences(X_test_q2, maxlen = 30, padding='post')"
      ],
      "execution_count": 57,
      "outputs": []
    },
    {
      "cell_type": "code",
      "metadata": {
        "id": "op2gy5-M9Tnh"
      },
      "source": [
        "word_index = tokenizer.word_index"
      ],
      "execution_count": 58,
      "outputs": []
    },
    {
      "cell_type": "code",
      "metadata": {
        "id": "rMEGeYFw9TxE"
      },
      "source": [
        "embedding_index = {}\n",
        "with open('glove.6B.200d.txt','r') as f:\n",
        "    for line in f:\n",
        "        values = line.split()\n",
        "        word = values[0]\n",
        "        vectors = np.asarray(values[1:], 'float32')\n",
        "        embedding_index[word] = vectors\n",
        "    f.close()"
      ],
      "execution_count": 59,
      "outputs": []
    },
    {
      "cell_type": "code",
      "metadata": {
        "id": "6Fu0WWQU9T7C"
      },
      "source": [
        "embedding_matrix = np.random.random((len(word_index)+1, 200))\n",
        "for word, i in word_index.items():\n",
        "    embedding_vector = embedding_index.get(word)\n",
        "    if embedding_vector is not None:\n",
        "        embedding_matrix[i] = embedding_vector"
      ],
      "execution_count": 60,
      "outputs": []
    },
    {
      "cell_type": "code",
      "metadata": {
        "id": "YMDudfDU-UBe"
      },
      "source": [
        "# Model for Q1\n",
        "import tensorflow as tf\n",
        "from tensorflow.keras.layers import BatchNormalization\n",
        "model_q1 = tf.keras.Sequential()\n",
        "model_q1.add(Embedding(input_dim = len(word_index)+1,\n",
        "                       output_dim = 200,\n",
        "                      weights = [embedding_matrix],\n",
        "                      input_length = 30))\n",
        "model_q1.add(LSTM(128, activation = 'tanh', return_sequences = True))\n",
        "model_q1.add(Dropout(0.2))\n",
        "model_q1.add(LSTM(128, return_sequences = True))\n",
        "model_q1.add(LSTM(128))\n",
        "model_q1.add(Dense(60, activation = 'tanh'))\n",
        "model_q1.add(Dense(2, activation = 'sigmoid'))"
      ],
      "execution_count": 61,
      "outputs": []
    },
    {
      "cell_type": "code",
      "metadata": {
        "id": "WqnTZ1jB-UPW"
      },
      "source": [
        "# Model for Q2\n",
        "model_q2 = tf.keras.Sequential()\n",
        "model_q2.add(Embedding(input_dim = len(word_index)+1,\n",
        "                       output_dim = 200,\n",
        "                      weights = [embedding_matrix],\n",
        "                      input_length = 30))\n",
        "model_q2.add(LSTM(128, activation = 'tanh', return_sequences = True))\n",
        "model_q2.add(Dropout(0.2))\n",
        "model_q2.add(LSTM(128, return_sequences = True))\n",
        "model_q2.add(LSTM(128))\n",
        "model_q2.add(Dense(60, activation = 'tanh'))\n",
        "model_q2.add(Dense(2, activation = 'sigmoid'))"
      ],
      "execution_count": 62,
      "outputs": []
    },
    {
      "cell_type": "code",
      "metadata": {
        "id": "Ug8DlPuZ-UT3"
      },
      "source": [
        "# Merging the output of the two models,i.e, model_q1 and model_q2\n",
        "mergedOut = Multiply()([model_q1.output, model_q2.output])\n",
        "\n",
        "mergedOut = Flatten()(mergedOut)\n",
        "mergedOut = Dense(100, activation = 'relu')(mergedOut)\n",
        "mergedOut = Dropout(0.2)(mergedOut)\n",
        "mergedOut = Dense(50, activation = 'relu')(mergedOut)\n",
        "mergedOut = Dropout(0.2)(mergedOut)\n",
        "mergedOut = Dense(2, activation = 'sigmoid')(mergedOut)"
      ],
      "execution_count": 63,
      "outputs": []
    },
    {
      "cell_type": "code",
      "metadata": {
        "colab": {
          "base_uri": "https://localhost:8080/"
        },
        "id": "m4fF36w6-Ufe",
        "outputId": "33b7e378-3dc1-434c-fa18-8948329ed00b"
      },
      "source": [
        "new_model = Model([model_q1.input, model_q2.input], mergedOut)\n",
        "new_model.compile(optimizer = 'adam', loss = 'sparse_categorical_crossentropy',\n",
        "                 metrics = ['accuracy'])\n",
        "history = new_model.fit([X_train_q1,X_train_q2],Y_train, batch_size = 2000, epochs = 10)"
      ],
      "execution_count": 64,
      "outputs": [
        {
          "output_type": "stream",
          "name": "stdout",
          "text": [
            "Epoch 1/10\n",
            "203/203 [==============================] - 108s 451ms/step - loss: 0.6528 - accuracy: 0.6296\n",
            "Epoch 2/10\n",
            "203/203 [==============================] - 90s 442ms/step - loss: 0.5592 - accuracy: 0.7113\n",
            "Epoch 3/10\n",
            "203/203 [==============================] - 91s 450ms/step - loss: 0.5116 - accuracy: 0.7495\n",
            "Epoch 4/10\n",
            "203/203 [==============================] - 91s 449ms/step - loss: 0.4802 - accuracy: 0.7667\n",
            "Epoch 5/10\n",
            "203/203 [==============================] - 91s 449ms/step - loss: 0.4550 - accuracy: 0.7793\n",
            "Epoch 6/10\n",
            "203/203 [==============================] - 91s 449ms/step - loss: 0.4297 - accuracy: 0.7918\n",
            "Epoch 7/10\n",
            "203/203 [==============================] - 92s 453ms/step - loss: 0.4088 - accuracy: 0.8023\n",
            "Epoch 8/10\n",
            "203/203 [==============================] - 91s 448ms/step - loss: 0.3886 - accuracy: 0.8125\n",
            "Epoch 9/10\n",
            "203/203 [==============================] - 91s 447ms/step - loss: 0.3705 - accuracy: 0.8219\n",
            "Epoch 10/10\n",
            "203/203 [==============================] - 91s 449ms/step - loss: 0.3537 - accuracy: 0.8302\n"
          ]
        }
      ]
    },
    {
      "cell_type": "code",
      "metadata": {
        "colab": {
          "base_uri": "https://localhost:8080/"
        },
        "id": "HfGucqxy-U0x",
        "outputId": "7916cc38-2f45-4afb-b30c-9fb2d4bdb144"
      },
      "source": [
        "y_pred = new_model.predict([X_test_q1, X_test_q2], batch_size=2000, verbose=1)\n",
        "y_pred += new_model.predict([X_test_q1, X_test_q2], batch_size=2000, verbose=1)\n",
        "y_pred /= 2"
      ],
      "execution_count": 65,
      "outputs": [
        {
          "output_type": "stream",
          "name": "stdout",
          "text": [
            "201/201 [==============================] - 27s 124ms/step\n",
            "201/201 [==============================] - 25s 125ms/step\n"
          ]
        }
      ]
    }
  ]
}